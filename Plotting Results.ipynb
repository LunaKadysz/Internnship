{
 "cells": [
  {
   "cell_type": "markdown",
   "id": "a840c087",
   "metadata": {},
   "source": [
    "####  Here we orgnize the data in new files and plot the results"
   ]
  },
  {
   "cell_type": "code",
   "execution_count": 1,
   "id": "f4ae0fdc",
   "metadata": {},
   "outputs": [],
   "source": [
    "import numpy as np\n",
    "#from scipy.io import loadmat\n",
    "import seaborn as sns\n",
    "from scipy import signal\n",
    "from scipy.optimize import curve_fit\n",
    "import cmath\n",
    "import matplotlib.pyplot as plt\n",
    "plt.style.use('seaborn-darkgrid')\n",
    "#import hdf5storage\n",
    "import json\n",
    "import os"
   ]
  },
  {
   "cell_type": "code",
   "execution_count": 4,
   "id": "1c0bbe44",
   "metadata": {
    "scrolled": true
   },
   "outputs": [
    {
     "name": "stdout",
     "output_type": "stream",
     "text": [
      "<_io.TextIOWrapper name='new_results2/101.txt' mode='r' encoding='cp1252'>\n",
      "<_io.TextIOWrapper name='new_results2/105.txt' mode='r' encoding='cp1252'>\n",
      "<_io.TextIOWrapper name='new_results2/13.txt' mode='r' encoding='cp1252'>\n",
      "<_io.TextIOWrapper name='new_results2/17.txt' mode='r' encoding='cp1252'>\n",
      "<_io.TextIOWrapper name='new_results2/21.txt' mode='r' encoding='cp1252'>\n",
      "<_io.TextIOWrapper name='new_results2/25.txt' mode='r' encoding='cp1252'>\n",
      "<_io.TextIOWrapper name='new_results2/29.txt' mode='r' encoding='cp1252'>\n",
      "<_io.TextIOWrapper name='new_results2/33.txt' mode='r' encoding='cp1252'>\n",
      "<_io.TextIOWrapper name='new_results2/37.txt' mode='r' encoding='cp1252'>\n",
      "<_io.TextIOWrapper name='new_results2/41.txt' mode='r' encoding='cp1252'>\n",
      "<_io.TextIOWrapper name='new_results2/45.txt' mode='r' encoding='cp1252'>\n",
      "<_io.TextIOWrapper name='new_results2/49.txt' mode='r' encoding='cp1252'>\n",
      "<_io.TextIOWrapper name='new_results2/5.txt' mode='r' encoding='cp1252'>\n",
      "<_io.TextIOWrapper name='new_results2/53.txt' mode='r' encoding='cp1252'>\n",
      "<_io.TextIOWrapper name='new_results2/57.txt' mode='r' encoding='cp1252'>\n",
      "<_io.TextIOWrapper name='new_results2/61.txt' mode='r' encoding='cp1252'>\n",
      "<_io.TextIOWrapper name='new_results2/65.txt' mode='r' encoding='cp1252'>\n",
      "<_io.TextIOWrapper name='new_results2/69.txt' mode='r' encoding='cp1252'>\n",
      "<_io.TextIOWrapper name='new_results2/73.txt' mode='r' encoding='cp1252'>\n",
      "<_io.TextIOWrapper name='new_results2/81.txt' mode='r' encoding='cp1252'>\n",
      "<_io.TextIOWrapper name='new_results2/85.txt' mode='r' encoding='cp1252'>\n",
      "<_io.TextIOWrapper name='new_results2/89.txt' mode='r' encoding='cp1252'>\n",
      "<_io.TextIOWrapper name='new_results2/9.txt' mode='r' encoding='cp1252'>\n",
      "<_io.TextIOWrapper name='new_results2/93.txt' mode='r' encoding='cp1252'>\n",
      "<_io.TextIOWrapper name='new_results2/97.txt' mode='r' encoding='cp1252'>\n",
      "<_io.TextIOWrapper name='new_results2/parameters.txt' mode='r' encoding='cp1252'>\n"
     ]
    },
    {
     "ename": "KeyError",
     "evalue": "'params'",
     "output_type": "error",
     "traceback": [
      "\u001b[1;31m---------------------------------------------------------------------------\u001b[0m",
      "\u001b[1;31mKeyError\u001b[0m                                  Traceback (most recent call last)",
      "\u001b[1;32m<ipython-input-4-4528f826573d>\u001b[0m in \u001b[0;36m<module>\u001b[1;34m\u001b[0m\n\u001b[0;32m      8\u001b[0m             \u001b[0mprint\u001b[0m\u001b[1;33m(\u001b[0m\u001b[0mfile\u001b[0m\u001b[1;33m)\u001b[0m\u001b[1;33m\u001b[0m\u001b[1;33m\u001b[0m\u001b[0m\n\u001b[0;32m      9\u001b[0m             \u001b[0mfit_data\u001b[0m \u001b[1;33m=\u001b[0m \u001b[0mjson\u001b[0m\u001b[1;33m.\u001b[0m\u001b[0mload\u001b[0m\u001b[1;33m(\u001b[0m\u001b[0mfile\u001b[0m\u001b[1;33m)\u001b[0m\u001b[1;33m\u001b[0m\u001b[1;33m\u001b[0m\u001b[0m\n\u001b[1;32m---> 10\u001b[1;33m             \u001b[0mdata_\u001b[0m \u001b[1;33m=\u001b[0m \u001b[1;33m{\u001b[0m\u001b[0mk\u001b[0m \u001b[1;33m:\u001b[0m \u001b[0mfit_data\u001b[0m\u001b[1;33m[\u001b[0m\u001b[0mk\u001b[0m\u001b[1;33m]\u001b[0m \u001b[1;32mfor\u001b[0m \u001b[0mk\u001b[0m \u001b[1;32min\u001b[0m \u001b[0mfit_data\u001b[0m \u001b[1;32mif\u001b[0m \u001b[0mfit_data\u001b[0m\u001b[1;33m[\u001b[0m\u001b[0mk\u001b[0m\u001b[1;33m]\u001b[0m\u001b[1;33m[\u001b[0m\u001b[1;34m'params'\u001b[0m\u001b[1;33m]\u001b[0m \u001b[1;33m!=\u001b[0m \u001b[1;33m[\u001b[0m\u001b[1;33m]\u001b[0m \u001b[1;33m}\u001b[0m\u001b[1;33m\u001b[0m\u001b[1;33m\u001b[0m\u001b[0m\n\u001b[0m\u001b[0;32m     11\u001b[0m \u001b[1;33m\u001b[0m\u001b[0m\n\u001b[0;32m     12\u001b[0m             \u001b[1;32mfor\u001b[0m \u001b[0mk\u001b[0m \u001b[1;32min\u001b[0m \u001b[0mdata_\u001b[0m\u001b[1;33m:\u001b[0m\u001b[1;33m\u001b[0m\u001b[1;33m\u001b[0m\u001b[0m\n",
      "\u001b[1;32m<ipython-input-4-4528f826573d>\u001b[0m in \u001b[0;36m<dictcomp>\u001b[1;34m(.0)\u001b[0m\n\u001b[0;32m      8\u001b[0m             \u001b[0mprint\u001b[0m\u001b[1;33m(\u001b[0m\u001b[0mfile\u001b[0m\u001b[1;33m)\u001b[0m\u001b[1;33m\u001b[0m\u001b[1;33m\u001b[0m\u001b[0m\n\u001b[0;32m      9\u001b[0m             \u001b[0mfit_data\u001b[0m \u001b[1;33m=\u001b[0m \u001b[0mjson\u001b[0m\u001b[1;33m.\u001b[0m\u001b[0mload\u001b[0m\u001b[1;33m(\u001b[0m\u001b[0mfile\u001b[0m\u001b[1;33m)\u001b[0m\u001b[1;33m\u001b[0m\u001b[1;33m\u001b[0m\u001b[0m\n\u001b[1;32m---> 10\u001b[1;33m             \u001b[0mdata_\u001b[0m \u001b[1;33m=\u001b[0m \u001b[1;33m{\u001b[0m\u001b[0mk\u001b[0m \u001b[1;33m:\u001b[0m \u001b[0mfit_data\u001b[0m\u001b[1;33m[\u001b[0m\u001b[0mk\u001b[0m\u001b[1;33m]\u001b[0m \u001b[1;32mfor\u001b[0m \u001b[0mk\u001b[0m \u001b[1;32min\u001b[0m \u001b[0mfit_data\u001b[0m \u001b[1;32mif\u001b[0m \u001b[0mfit_data\u001b[0m\u001b[1;33m[\u001b[0m\u001b[0mk\u001b[0m\u001b[1;33m]\u001b[0m\u001b[1;33m[\u001b[0m\u001b[1;34m'params'\u001b[0m\u001b[1;33m]\u001b[0m \u001b[1;33m!=\u001b[0m \u001b[1;33m[\u001b[0m\u001b[1;33m]\u001b[0m \u001b[1;33m}\u001b[0m\u001b[1;33m\u001b[0m\u001b[1;33m\u001b[0m\u001b[0m\n\u001b[0m\u001b[0;32m     11\u001b[0m \u001b[1;33m\u001b[0m\u001b[0m\n\u001b[0;32m     12\u001b[0m             \u001b[1;32mfor\u001b[0m \u001b[0mk\u001b[0m \u001b[1;32min\u001b[0m \u001b[0mdata_\u001b[0m\u001b[1;33m:\u001b[0m\u001b[1;33m\u001b[0m\u001b[1;33m\u001b[0m\u001b[0m\n",
      "\u001b[1;31mKeyError\u001b[0m: 'params'"
     ]
    }
   ],
   "source": [
    "\n",
    "pars = ['center','sigma','amplitude_real','amplitude_imag']\n",
    "parameters = {}\n",
    "\n",
    "for i,file_name in enumerate(os.listdir('new_results2')):\n",
    "    ext = os.path.splitext(file_name)[1] #file extension\n",
    "    if ext == '.txt':\n",
    "        with open(f'new_results2/{file_name}', 'r') as file:\n",
    "            print(file)\n",
    "            fit_data = json.load(file)\n",
    "            data_ = {k : fit_data[k] for k in fit_data if fit_data[k]['params'] != [] }\n",
    "\n",
    "            for k in data_:\n",
    "                cen = [data_[k][\"params\"][4*(m-1)] for m in range(1,19)]\n",
    "                order = sorted(range(18), key=lambda l: cen[l])\n",
    "                keys = sorted(range(18), key=lambda l: order[l])\n",
    "                parameters[k] = {}\n",
    "                for n in range(18):\n",
    "                    parameters[k][f'lz{keys[n] + 1}']  = {}\n",
    "                    for i in range(4):\n",
    "                        parameters[k][f'lz{keys[n] + 1}'][pars[i]] =  data_[k]['params'][(4*n)+ i]\n",
    "            #        for i in range(4):\n",
    "\n",
    "file_name = 'new_results2/parameters.txt'\n",
    "with open(file_name, 'w') as file:\n",
    "    file.truncate(0)\n",
    "    file.write(json.dumps(parameters))\n",
    "        "
   ]
  },
  {
   "cell_type": "markdown",
   "id": "d5e36a7a",
   "metadata": {},
   "source": [
    "## Frequency analysis\n",
    "### Fitted data"
   ]
  },
  {
   "cell_type": "code",
   "execution_count": 5,
   "id": "c53e8609",
   "metadata": {},
   "outputs": [],
   "source": [
    "amp_real = {n: np.zeros([118,118]) for n in range(1,19)}\n",
    "amp_imag = {n: np.zeros([118,118]) for n in range(1,19)}\n",
    "\n",
    "for i,k in enumerate(parameters):\n",
    "    X = int(k.split(',')[0].split('[')[1])\n",
    "    Y = int(k.split(',')[1].split(']')[0])\n",
    "    for n in range(1,19):\n",
    "        amp_real[n][X,Y] = parameters[k][f'lz{n}']['amplitude_real']\n",
    "        amp_imag[n][X,Y] = parameters[k][f'lz{n}']['amplitude_imag']\n"
   ]
  },
  {
   "cell_type": "code",
   "execution_count": 6,
   "id": "6f679bad",
   "metadata": {},
   "outputs": [
    {
     "name": "stdout",
     "output_type": "stream",
     "text": [
      "Frequency: 6382.946808510638 Hz\n"
     ]
    }
   ],
   "source": [
    "print(f\"Frequency: {parameters[k][f'lz3']['center']} Hz\")"
   ]
  },
  {
   "cell_type": "code",
   "execution_count": 24,
   "id": "094d23eb",
   "metadata": {},
   "outputs": [
    {
     "data": {
      "text/plain": [
       "<matplotlib.collections.PathCollection at 0x1784aff6e20>"
      ]
     },
     "execution_count": 24,
     "metadata": {},
     "output_type": "execute_result"
    }
   ],
   "source": [
    "from mpl_toolkits import mplot3d\n",
    "\n",
    "%matplotlib qt\n",
    "\n",
    "lz = 17\n",
    "\n",
    "fig = plt.figure(figsize =(14, 9))\n",
    "#ax = plt.axes(projection ='2d')\n",
    "my_cmap = plt.get_cmap('jet')\n",
    "x = np.outer(np.linspace(0, 119,118), np.ones(118))\n",
    "y = x.copy().T\n",
    "z = np.sqrt(amp_real[lz]**2 + amp_imag[lz]**2)\n",
    "plt.title(f\"Frequency: {parameters[k][f'lz{lz}']['center']} Hz\")\n",
    "plt.imshow( z , cmap = 'jet'  )\n",
    "plt.scatter(clamp_x,clamp_y,color='WHITE')"
   ]
  },
  {
   "cell_type": "markdown",
   "id": "ed540605",
   "metadata": {},
   "source": [
    "### Real data"
   ]
  },
  {
   "cell_type": "code",
   "execution_count": 2,
   "id": "567586e1",
   "metadata": {},
   "outputs": [
    {
     "data": {
      "text/plain": [
       "dict_keys(['XX', 'Xmatrix', 'YY', 'ZZ', 'Zfreq', 'f0', 'name2Save', 'sampleintervalS'])"
      ]
     },
     "execution_count": 2,
     "metadata": {},
     "output_type": "execute_result"
    }
   ],
   "source": [
    "import hdf5storage\n",
    "data = hdf5storage.loadmat('data/final_data.mat')\n",
    "data.keys()"
   ]
  },
  {
   "cell_type": "code",
   "execution_count": 3,
   "id": "64c2620c",
   "metadata": {},
   "outputs": [
    {
     "data": {
      "text/plain": [
       "dict_keys(['XX', 'Xmatrix', 'YY', 'ZZ', 'Zfreq', 'f0', 'name2Save', 'sampleintervalS'])"
      ]
     },
     "execution_count": 3,
     "metadata": {},
     "output_type": "execute_result"
    }
   ],
   "source": [
    "data.keys()"
   ]
  },
  {
   "cell_type": "code",
   "execution_count": 26,
   "id": "5b9c58b3",
   "metadata": {},
   "outputs": [],
   "source": [
    "freq_1 = {}\n",
    "freq_2 = {}\n",
    "freq_3 = {}\n",
    "freq_4 = {}\n",
    "Fc_low = 13300\n",
    "Fc_high = 3000\n",
    "v = data['ZZ'][:,0,0][100:]\n",
    "L = len(v)\n",
    "Fs = 199999\n",
    "\n",
    "\n",
    "for i in range(118):\n",
    "    for j in range(118):\n",
    "        \n",
    "        v = data['ZZ'][:,i,j][100:]\n",
    "        sos_l = signal.bessel(5,Fc_low, 'low', fs=Fs,output='sos') # LPF filtering parameters\n",
    "        sos_h = signal.bessel(5,Fc_high, 'high', fs=Fs,output='sos') # HPF filtering parameters\n",
    "\n",
    "        x = signal.sosfilt(sos_l,v) # LPF\n",
    "        x = signal.sosfilt(sos_h,x) # HPF\n",
    "        \n",
    "        freqs=np.fft.fftfreq(L,1/Fs)\n",
    "        fft= np.fft.fft(x)[freqs>100]\n",
    "        \n",
    "        f1 = 5425\n",
    "        f2 = 7659\n",
    "        f3 = 6382\n",
    "        f4 = 12765\n",
    "        index_freq1 = np.where(freqs>f1)[0][0]\n",
    "        index_freq2 = np.where(freqs>f2)[0][0]\n",
    "        index_freq3 = np.where(freqs>f3)[0][0]\n",
    "        index_freq4 = np.where(freqs>f4)[0][0]\n",
    "        \n",
    "        freq_1[f'[{i},{j}]'] = fft[index_freq1]\n",
    "        freq_2[f'[{i},{j}]'] = fft[index_freq2]\n",
    "        freq_3[f'[{i},{j}]'] = fft[index_freq3]\n",
    "        freq_4[f'[{i},{j}]'] = fft[index_freq4]\n",
    "        "
   ]
  },
  {
   "cell_type": "code",
   "execution_count": 35,
   "id": "c9b08f6a",
   "metadata": {},
   "outputs": [],
   "source": [
    "amp_data = np.zeros([118,118])\n",
    "\n",
    "for i,k in enumerate(freq_4):\n",
    "    X = int(k.split(',')[0].split('[')[1])\n",
    "    Y = int(k.split(',')[1].split(']')[0])\n",
    "    amp_data[X,Y] = np.abs(freq_4[k])\n",
    "\n"
   ]
  },
  {
   "cell_type": "code",
   "execution_count": 36,
   "id": "40584512",
   "metadata": {},
   "outputs": [
    {
     "data": {
      "text/plain": [
       "<matplotlib.collections.PathCollection at 0x17864002a90>"
      ]
     },
     "execution_count": 36,
     "metadata": {},
     "output_type": "execute_result"
    }
   ],
   "source": [
    "%matplotlib qt\n",
    "\n",
    "\n",
    "fig = plt.figure(figsize =(14, 9))\n",
    "\n",
    "#z = np.sqrt(amp_real[lz]**2 + amp_imag[lz]**2)\n",
    "z = amp_data\n",
    "plt.title(f\"Frequency: 12765 Hz\")\n",
    "plt.imshow( z , cmap = 'jet'  )\n",
    "\n",
    "\n",
    "plt.scatter(clamp_x,clamp_y,color='white')"
   ]
  },
  {
   "cell_type": "markdown",
   "id": "d9f0905b",
   "metadata": {},
   "source": [
    "###  Clamping"
   ]
  },
  {
   "cell_type": "code",
   "execution_count": 42,
   "id": "b5bbcd92",
   "metadata": {},
   "outputs": [
    {
     "data": {
      "text/plain": [
       "187"
      ]
     },
     "execution_count": 42,
     "metadata": {},
     "output_type": "execute_result"
    }
   ],
   "source": [
    "max(clamp_x)"
   ]
  },
  {
   "cell_type": "code",
   "execution_count": 8,
   "id": "e12770db",
   "metadata": {},
   "outputs": [
    {
     "name": "stdout",
     "output_type": "stream",
     "text": [
      "76.0\n"
     ]
    }
   ],
   "source": [
    "\n",
    "file_data = np.genfromtxt(\"data/clamps.txt\", skip_header=0, dtype=int)\n",
    "\n",
    "clamp_x = (file_data[:,0]+17)/2 \n",
    "clamp_y = (file_data[:,1]+17)/2\n",
    "\n",
    "print(clamp_y[0])\n",
    "clamp_data = np.zeros([118,118])\n",
    "\n",
    "for i in range(len(clamp_x)):\n",
    "    #print(clamp_x[i],clamp_y[i])\n",
    "    x = int(clamp_x[i])\n",
    "    y = int(clamp_y[i])\n",
    "    clamp_data[x,y] = 100000\n"
   ]
  },
  {
   "cell_type": "code",
   "execution_count": 110,
   "id": "0f33bcb1",
   "metadata": {},
   "outputs": [
    {
     "data": {
      "text/plain": [
       "<matplotlib.image.AxesImage at 0x16ce537bca0>"
      ]
     },
     "execution_count": 110,
     "metadata": {},
     "output_type": "execute_result"
    }
   ],
   "source": [
    "# gaussian kernel\n",
    "s = [[1, 2, 1],  \n",
    "     [0, 0, 0], \n",
    "     [-1, -2, -1]]\n",
    "\n",
    "\n",
    "# convulution\n",
    "H = signal.convolve2d(z, s)\n",
    "V = signal.convolve2d(z, np.transpose(s))\n",
    "R = (H**2 + V**2)**0.5\n",
    "\n",
    "\n",
    "#cgrafica dicha convolución\n",
    "plt.figure(figsize = (5, 5))\n",
    "plt.imshow(R, cmap = 'jet' )"
   ]
  }
 ],
 "metadata": {
  "kernelspec": {
   "display_name": "Python 3",
   "language": "python",
   "name": "python3"
  },
  "language_info": {
   "codemirror_mode": {
    "name": "ipython",
    "version": 3
   },
   "file_extension": ".py",
   "mimetype": "text/x-python",
   "name": "python",
   "nbconvert_exporter": "python",
   "pygments_lexer": "ipython3",
   "version": "3.8.8"
  }
 },
 "nbformat": 4,
 "nbformat_minor": 5
}
